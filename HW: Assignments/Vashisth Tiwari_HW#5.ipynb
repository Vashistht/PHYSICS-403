{
 "cells": [
  {
   "cell_type": "markdown",
   "id": "wrapped-contributor",
   "metadata": {},
   "source": [
    "# Vashisth Tiwari"
   ]
  },
  {
   "cell_type": "code",
   "execution_count": 1,
   "id": "alike-scheme",
   "metadata": {},
   "outputs": [],
   "source": [
    "# from scipy.optimize import minimize\n",
    "import numpy as np\n",
    "import sys\n",
    "# from math import factorial\n",
    "import scipy \n",
    "import scipy.special as ssp\n",
    "from scipy.optimize import minimize\n",
    "from scipy import integrate\n",
    "import scipy.stats as st\n",
    "\n",
    "import matplotlib.pyplot as plt\n",
    "import matplotlib.cm as cm\n",
    "import matplotlib as mpl\n",
    "\n",
    "from IPython.display import display, Math\n",
    "\n",
    "# from numpy import sqrt, sin, cos, pi, log, histogram2d\n",
    "# from numpy import exp,arange\n",
    "# from pylab import meshgrid,cm,imshow,contour,clabel,colorbar,axis,title,show"
   ]
  },
  {
   "cell_type": "code",
   "execution_count": 2,
   "id": "included-article",
   "metadata": {},
   "outputs": [],
   "source": [
    "plt.style.use('seaborn-dark')\n",
    "#plt.rcParams[\"figure.figsize\"] = (5,5)"
   ]
  },
  {
   "cell_type": "code",
   "execution_count": 3,
   "id": "heated-madness",
   "metadata": {},
   "outputs": [],
   "source": [
    "# Reading the text (source github 403)\n",
    "# https://github.com/sybenzvi/PHY403/blob/master/nb/PyIntro.ipynb\n",
    "\n",
    "data = np.genfromtxt('supernova_data.txt')\n",
    "\n",
    "z = data[:,0]   # z values\n",
    "m = data[:,1]   # m values\n",
    "m_err = data[:,2] #error in m\n",
    "\n",
    "len(z), len(m), len(m_err)\n",
    "n = len(z)"
   ]
  },
  {
   "cell_type": "code",
   "execution_count": 4,
   "id": "adjacent-complexity",
   "metadata": {},
   "outputs": [],
   "source": [
    "c = 3e5 #the speed of light km/s instead of m/s"
   ]
  },
  {
   "cell_type": "code",
   "execution_count": 5,
   "id": "timely-component",
   "metadata": {},
   "outputs": [],
   "source": [
    "def lum_dist(z,omegaM,omegaL,H0):\n",
    "    t1 = 1+z\n",
    "    t2 = c/H0\n",
    "    \n",
    "    z_axis = np.linspace(0,z,50) # create 50 points linearly spaced \n",
    "    \n",
    "    integrand = 1/np.sqrt(omegaM*((1+z_axis)**3)+omegaL)\n",
    "    tz = np.trapz(integrand, x=z_axis)\n",
    "    \n",
    "    dL = t1*t2*tz *(10**6) # convert from Mp to p\n",
    "    \n",
    "    return dL"
   ]
  },
  {
   "cell_type": "code",
   "execution_count": 6,
   "id": "sustained-camcorder",
   "metadata": {},
   "outputs": [],
   "source": [
    "\"\"\" Function takes in parameters \n",
    "    returns the list of values predicted by the given hypothesis\"\"\"\n",
    "\n",
    "\n",
    "def m_theory(omegaM,omegaL,H0,M):\n",
    "    \n",
    "    z = data[:,0]   # z values\n",
    "    m_list= data[:,1]   # m values\n",
    "    sigma = data[:,2] #error in m\n",
    "    \n",
    "    Fi_list = []\n",
    "    for zi in z:\n",
    "        dL = lum_dist(zi,omegaM,omegaL,H0)\n",
    "        mu = 5*(np.log10(dL)-1)\n",
    "        Fi = mu + M\n",
    "        Fi_list.append(Fi)\n",
    "    \n",
    "    Fi_list = np.asarray(Fi_list)\n",
    "    \n",
    "    return Fi_list"
   ]
  },
  {
   "cell_type": "code",
   "execution_count": 7,
   "id": "planned-department",
   "metadata": {},
   "outputs": [],
   "source": [
    "\"\"\" Input: Takes in a list with parameters\n",
    "    Returns: a chi squared values for the given m values \"\"\"\n",
    "\n",
    "def chi_sq(params):\n",
    "    omegaM,omegaL,H0,M = params\n",
    "    \n",
    "    z = data[:,0]  # z values\n",
    "    z = np.asarray(z)\n",
    "    \n",
    "    m_list= data[:,1]   # m values\n",
    "    m_list = np.asarray(m_list)\n",
    "\n",
    "    sigma = data[:,2] # error in m\n",
    "    sigma = np.asarray(sigma)\n",
    "\n",
    "    F_list = m_theory(omegaM,omegaL,H0,M)\n",
    "    numerator = (F_list-m_list)**2\n",
    "    denominator = sigma**2\n",
    "    \n",
    "    chi_sq = np.sum(numerator/denominator)\n",
    "    return chi_sq"
   ]
  },
  {
   "cell_type": "code",
   "execution_count": 8,
   "id": "adequate-trauma",
   "metadata": {},
   "outputs": [],
   "source": [
    "# list of bounds on Omega_M, Omega_Delta, H0, and M\n",
    "bound_om = [0,3]\n",
    "bound_od = [-1,4]\n",
    "bound_H0 = [50,100]\n",
    "bound_M = [-20,-18]"
   ]
  },
  {
   "cell_type": "markdown",
   "id": "universal-interval",
   "metadata": {},
   "source": [
    "***\n",
    "# 1(a)"
   ]
  },
  {
   "cell_type": "code",
   "execution_count": 9,
   "id": "drawn-cincinnati",
   "metadata": {},
   "outputs": [],
   "source": [
    "# initial_guess = np.asarray([(0+3)/2,(-1+4)/2,(50+100)/2,(-18-20)/2])\n",
    "initial_guess = [1,1,70,-19]"
   ]
  },
  {
   "cell_type": "code",
   "execution_count": 10,
   "id": "static-crawford",
   "metadata": {},
   "outputs": [
    {
     "name": "stderr",
     "output_type": "stream",
     "text": [
      "/Users/vashisth/opt/anaconda3/lib/python3.7/site-packages/ipykernel_launcher.py:7: RuntimeWarning: invalid value encountered in sqrt\n",
      "  import sys\n"
     ]
    }
   ],
   "source": [
    "resulta = minimize(chi_sq, initial_guess,\n",
    "                  method='SLSQP',\n",
    "                  bounds = [bound_om, bound_od, bound_H0,bound_M]\n",
    "                  ) \n",
    "\n",
    "result1a = minimize(chi_sq, initial_guess,\n",
    "                  method='Powell',\n",
    "                  bounds = [bound_om, bound_od, bound_H0,bound_M]\n",
    "                  ) \n",
    "\n",
    "resultaa = minimize(chi_sq, [0.5, 1 ,  70 , -19],\n",
    "                  method='TNC',\n",
    "                  bounds = [bound_om, bound_od, bound_H0,bound_M]\n",
    "                  )\n",
    "\n",
    "# L-BFGS-B method was not working for some reason"
   ]
  },
  {
   "cell_type": "code",
   "execution_count": 11,
   "id": "conventional-moore",
   "metadata": {},
   "outputs": [],
   "source": [
    "l = [resulta.fun, resultaa.fun, resultaa.fun]\n",
    "l = np.sort(l)"
   ]
  },
  {
   "cell_type": "code",
   "execution_count": 12,
   "id": "interstate-china",
   "metadata": {},
   "outputs": [
    {
     "data": {
      "text/plain": [
       "True"
      ]
     },
     "execution_count": 12,
     "metadata": {},
     "output_type": "execute_result"
    }
   ],
   "source": [
    "l[0] == resulta.fun"
   ]
  },
  {
   "cell_type": "code",
   "execution_count": 13,
   "id": "diverse-mustang",
   "metadata": {},
   "outputs": [
    {
     "data": {
      "text/plain": [
       "     fun: 120.73783719165195\n",
       "     jac: array([ 0.04432678,  0.02800369,  0.00108528, -0.03205585])\n",
       " message: 'Optimization terminated successfully'\n",
       "    nfev: 60\n",
       "     nit: 11\n",
       "    njev: 11\n",
       "  status: 0\n",
       " success: True\n",
       "       x: array([  0.28261749,   0.7986938 ,  65.55164712, -19.23236445])"
      ]
     },
     "execution_count": 13,
     "metadata": {},
     "output_type": "execute_result"
    }
   ],
   "source": [
    "resulta"
   ]
  },
  {
   "cell_type": "markdown",
   "id": "regional-census",
   "metadata": {},
   "source": [
    "### Hence we choose the first method with SLSQP method instead of Powell or TNC "
   ]
  },
  {
   "cell_type": "code",
   "execution_count": 14,
   "id": "prospective-difference",
   "metadata": {},
   "outputs": [],
   "source": [
    "omegaMa,omegaLa,H0a,Ma = resulta.x"
   ]
  },
  {
   "cell_type": "code",
   "execution_count": 15,
   "id": "distributed-marine",
   "metadata": {},
   "outputs": [
    {
     "name": "stdout",
     "output_type": "stream",
     "text": [
      "For four parameter optimization we get\n",
      "\n"
     ]
    },
    {
     "data": {
      "text/latex": [
       "$\\displaystyle \\Omega_M:0.28 \\\\ \\Omega_\\Lambda: 0.8 \\\\ H_0: 65.55\\:km/s \\: M/pc \\\\ M: -19.23$"
      ],
      "text/plain": [
       "<IPython.core.display.Math object>"
      ]
     },
     "metadata": {},
     "output_type": "display_data"
    }
   ],
   "source": [
    "print(\"For four parameter optimization we get\\n\")\n",
    "\n",
    "display(Math(r'\\Omega_M:{0} \\\\ \\Omega_\\Lambda: {1} \\\\ H_0: {2}\\:km/s \\: M/pc \\\\ M: {3}'.format(\n",
    "    round(omegaMa,2),round(omegaLa,2),round(H0a,2),round(Ma,2))))"
   ]
  },
  {
   "cell_type": "code",
   "execution_count": 16,
   "id": "published-alliance",
   "metadata": {},
   "outputs": [],
   "source": [
    "mvalue = m_theory(omegaM=omegaMa,omegaL=omegaLa,H0=H0a,M=Ma) # predicted value"
   ]
  },
  {
   "cell_type": "code",
   "execution_count": 17,
   "id": "tough-compact",
   "metadata": {},
   "outputs": [
    {
     "data": {
      "image/png": "[encoded data removed]",
      "text/plain": [
       "<Figure size 1080x504 with 1 Axes>"
      ]
     },
     "metadata": {},
     "output_type": "display_data"
    }
   ],
   "source": [
    "plt.rcParams[\"figure.figsize\"] = (15,7)\n",
    "plt.rcParams.update({'font.size': 15})\n",
    "\n",
    "plt.errorbar(z,m, yerr= m_err,fmt='k.', ecolor=\"black\", mec='red', label =\"Measured values\")\n",
    "plt.plot(z,mvalue,linestyle='--',label=r\"$\\Omega_M=${0:.2f}, $\\Omega_\\Lambda=${1:.2f}, $H_0=${2:.2f}, $M=$ {3:.2f}\".\n",
    "         format(omegaMa,omegaLa,H0a,Ma)) \n",
    "plt.ylim([14,25])\n",
    "plt.xlabel(r\"redshift $z$\")\n",
    "plt.ylabel(r\"$m$\")\n",
    "plt.legend(loc=\"lower right\")\n",
    "plt.show()"
   ]
  },
  {
   "cell_type": "markdown",
   "id": "neither-appointment",
   "metadata": {},
   "source": [
    "___\n",
    "\n",
    "# 1 (b)\n",
    "$$\\Omega_\\Lambda = 1-\\Omega_M$$"
   ]
  },
  {
   "cell_type": "code",
   "execution_count": 18,
   "id": "constant-power",
   "metadata": {},
   "outputs": [],
   "source": [
    "\"\"\" Input: Takes in a list with parameters\n",
    "    Returns: a chi squared values for the given m values \"\"\"\n",
    "\n",
    "\n",
    "def chi_sq_b(params):\n",
    "    omegaM,H0,M = params\n",
    "    omegaL = 1 - omegaM\n",
    "    \n",
    "    z = data[:,0]  # z values\n",
    "    z = np.asarray(z)\n",
    "    \n",
    "    m_list= data[:,1]   # m values\n",
    "    m_list = np.asarray(m_list)\n",
    "\n",
    "    sigma = data[:,2] #error in m\n",
    "    sigma = np.asarray(sigma)\n",
    "\n",
    "    F_list = m_theory(omegaM,1 - omegaM,H0,M)\n",
    "    numerator = (F_list-m_list)**2\n",
    "    denominator = sigma**2\n",
    "    \n",
    "    chi_sq = np.sum(numerator/denominator)\n",
    "    return chi_sq"
   ]
  },
  {
   "cell_type": "code",
   "execution_count": 19,
   "id": "common-indianapolis",
   "metadata": {},
   "outputs": [],
   "source": [
    "initial_guess = [1,70,-19]\n",
    "\n",
    "\n",
    "resultb = minimize(chi_sq_b, initial_guess,\n",
    "                  method='SLSQP',\n",
    "                  bounds = [bound_om, bound_H0,bound_M]\n",
    "                  ) \n",
    "\n",
    "result1b = minimize(chi_sq_b, initial_guess,\n",
    "                  method='L-BFGS-B',\n",
    "                  bounds = [bound_om, bound_H0,bound_M]\n",
    "                  ) "
   ]
  },
  {
   "cell_type": "code",
   "execution_count": 20,
   "id": "fresh-weekly",
   "metadata": {},
   "outputs": [],
   "source": [
    "ll = [result1b.fun, resultb.fun]\n",
    "ll = np.sort(ll)"
   ]
  },
  {
   "cell_type": "code",
   "execution_count": 21,
   "id": "prostate-honey",
   "metadata": {},
   "outputs": [
    {
     "data": {
      "text/plain": [
       "True"
      ]
     },
     "execution_count": 21,
     "metadata": {},
     "output_type": "execute_result"
    }
   ],
   "source": [
    "ll[0] == result1b.fun\n",
    "# Thus, we choose the L-BFGS-B method as lesser chi sq value\n",
    "# The two values are very close to each other suggesting the goodness of the minimizers in both cases"
   ]
  },
  {
   "cell_type": "code",
   "execution_count": 22,
   "id": "certain-webmaster",
   "metadata": {},
   "outputs": [
    {
     "data": {
      "text/plain": [
       "     fun: 120.73783700283992\n",
       "     jac: array([ 0.00442028,  0.00017643, -0.00668335])\n",
       " message: 'Optimization terminated successfully'\n",
       "    nfev: 44\n",
       "     nit: 10\n",
       "    njev: 10\n",
       "  status: 0\n",
       " success: True\n",
       "       x: array([  0.26135872,  70.40030434, -19.16228076])"
      ]
     },
     "execution_count": 22,
     "metadata": {},
     "output_type": "execute_result"
    }
   ],
   "source": [
    "resultb"
   ]
  },
  {
   "cell_type": "code",
   "execution_count": 23,
   "id": "competent-semiconductor",
   "metadata": {},
   "outputs": [],
   "source": [
    "omegaMb,H0b,Mb = resultb.x"
   ]
  },
  {
   "cell_type": "code",
   "execution_count": 24,
   "id": "developmental-vulnerability",
   "metadata": {
    "scrolled": true
   },
   "outputs": [
    {
     "name": "stdout",
     "output_type": "stream",
     "text": [
      "For three parameter optimization we get\n",
      "\n"
     ]
    },
    {
     "data": {
      "text/latex": [
       "$\\displaystyle \\Omega_M:0.26 \\\\ \\Omega_\\Lambda: 0.74 \\\\ H_0: 70.4 \\:km/s \\: M/pc  \\\\ M: -19.16$"
      ],
      "text/plain": [
       "<IPython.core.display.Math object>"
      ]
     },
     "metadata": {},
     "output_type": "display_data"
    }
   ],
   "source": [
    "print(\"For three parameter optimization we get\\n\")\n",
    "\n",
    "omegaLb = 1-omegaMb\n",
    "display(Math(r'\\Omega_M:{} \\\\ \\Omega_\\Lambda: {} \\\\ H_0: {} \\:km/s \\: M/pc  \\\\ M: {}'.format(\n",
    "    round(omegaMb,2),round(omegaLb,2),round(H0b,2),round(Mb,2))))"
   ]
  },
  {
   "cell_type": "markdown",
   "id": "qualified-honduras",
   "metadata": {},
   "source": [
    "### The value of $\\chi^2$ is the almost the same but with a reduced parameter. By what we learnt in Occam's Razor we can say that the reduced parameter fit is better and we are justified in doing so as we have similar $\\chi^2$ value with one lesser degree of freedom."
   ]
  },
  {
   "cell_type": "markdown",
   "id": "surprised-garage",
   "metadata": {},
   "source": [
    "***\n",
    "# 1(c)\n",
    "$$\\Omega_M = 1$$\n",
    "$$\\Omega_\\Lambda = 1-\\Omega_M$$"
   ]
  },
  {
   "cell_type": "code",
   "execution_count": 25,
   "id": "scheduled-question",
   "metadata": {},
   "outputs": [],
   "source": [
    "def chi_sq_c(params):\n",
    "    H0,M = params\n",
    "    omegaM = 1\n",
    "    omegaL = 1 - omegaM\n",
    "    z = data[:,0]  # z values\n",
    "    z = np.asarray(z)\n",
    "    \n",
    "    m_list= data[:,1]   # m values\n",
    "    m_list = np.asarray(m_list)\n",
    "\n",
    "    sigma = data[:,2] #error in m\n",
    "    sigma = np.asarray(sigma)\n",
    "\n",
    "    F_list = m_theory(1,1 - omegaM, H0,M)\n",
    "    numerator = (F_list-m_list)**2\n",
    "    denominator = sigma**2\n",
    "    \n",
    "    chi_sq = np.sum(numerator/denominator)\n",
    "    return chi_sq"
   ]
  },
  {
   "cell_type": "code",
   "execution_count": 26,
   "id": "second-allowance",
   "metadata": {},
   "outputs": [],
   "source": [
    "initial_guess = [70,-19]\n",
    "\n",
    "resultc = minimize(chi_sq_c, initial_guess,\n",
    "#                   method = 'nelder-mead'\n",
    "                  method='SLSQP',\n",
    "                  bounds = [bound_H0,bound_M]\n",
    "#                   callback=store, # Store minimization steps\n",
    "#                   options= {'gtol': 1E-20} # Tolerance for convergence\n",
    "                  ) \n",
    "\n",
    "result1c = minimize(chi_sq_c, initial_guess,\n",
    "#                   method = 'nelder-mead'\n",
    "                  method='L-BFGS-B',\n",
    "                  bounds = [bound_H0,bound_M]\n",
    "#                   callback=store, # Store minimization steps\n",
    "#                   options= {'gtol': 1E-20} # Tolerance for convergence\n",
    "                  ) "
   ]
  },
  {
   "cell_type": "code",
   "execution_count": 27,
   "id": "fabulous-princess",
   "metadata": {},
   "outputs": [],
   "source": [
    "lll = [resultc.fun, result1c.fun]\n",
    "lll = np.sort(lll)"
   ]
  },
  {
   "cell_type": "code",
   "execution_count": 28,
   "id": "approximate-destination",
   "metadata": {},
   "outputs": [
    {
     "data": {
      "text/plain": [
       "True"
      ]
     },
     "execution_count": 28,
     "metadata": {},
     "output_type": "execute_result"
    }
   ],
   "source": [
    "lll[0] == result1c.fun\n",
    "# we will choose the result from L-BFGS-B instead. \n",
    "# The two values are very close to each other suggesting the goodness of the minimizers in both cases"
   ]
  },
  {
   "cell_type": "code",
   "execution_count": 29,
   "id": "atomic-network",
   "metadata": {},
   "outputs": [
    {
     "data": {
      "text/plain": [
       "      fun: 172.35121008930597\n",
       " hess_inv: <2x2 LbfgsInvHessProduct with dtype=float64>\n",
       "      jac: array([-1.25055600e-04,  5.68434142e-05])\n",
       "  message: 'CONVERGENCE: REL_REDUCTION_OF_F_<=_FACTR*EPSMCH'\n",
       "     nfev: 18\n",
       "      nit: 3\n",
       "     njev: 6\n",
       "   status: 0\n",
       "  success: True\n",
       "        x: array([ 69.71675268, -18.94817986])"
      ]
     },
     "execution_count": 29,
     "metadata": {},
     "output_type": "execute_result"
    }
   ],
   "source": [
    "result1c"
   ]
  },
  {
   "cell_type": "code",
   "execution_count": 30,
   "id": "advance-intake",
   "metadata": {},
   "outputs": [],
   "source": [
    "H0c,Mc = result1c.x"
   ]
  },
  {
   "cell_type": "code",
   "execution_count": 31,
   "id": "broke-lunch",
   "metadata": {},
   "outputs": [
    {
     "name": "stdout",
     "output_type": "stream",
     "text": [
      "For two parameter optimization we get\n",
      "\n"
     ]
    },
    {
     "data": {
      "text/latex": [
       "$\\displaystyle \\Omega_M:1 \\\\ \\Omega_\\Lambda: 0 \\\\ H_0: 69.72 \\:km/s \\: M/pc \\\\ M: -18.95$"
      ],
      "text/plain": [
       "<IPython.core.display.Math object>"
      ]
     },
     "metadata": {},
     "output_type": "display_data"
    }
   ],
   "source": [
    "print(\"For two parameter optimization we get\\n\")\n",
    "\n",
    "omegaLb = 1-omegaMb\n",
    "display(Math(r'\\Omega_M:{} \\\\ \\Omega_\\Lambda: {} \\\\ H_0: {} \\:km/s \\: M/pc \\\\ M: {}'.format(\n",
    "    round(1,2),round(0,2),round(H0c,2),round(Mc,2))))"
   ]
  },
  {
   "cell_type": "markdown",
   "id": "permanent-former",
   "metadata": {},
   "source": [
    "***\n",
    "# 1(d)"
   ]
  },
  {
   "cell_type": "code",
   "execution_count": 32,
   "id": "gentle-error",
   "metadata": {},
   "outputs": [
    {
     "data": {
      "text/plain": [
       "(0.9999997133484281, 4.999999999970176)"
      ]
     },
     "execution_count": 32,
     "metadata": {},
     "output_type": "execute_result"
    }
   ],
   "source": [
    "st.norm.cdf(5), st.norm.ppf(0.9999997133484281)"
   ]
  },
  {
   "cell_type": "code",
   "execution_count": 33,
   "id": "ordinary-funeral",
   "metadata": {},
   "outputs": [
    {
     "data": {
      "text/plain": [
       "2.866515719235352e-07"
      ]
     },
     "execution_count": 33,
     "metadata": {},
     "output_type": "execute_result"
    }
   ],
   "source": [
    "1-0.9999997133484281"
   ]
  },
  {
   "cell_type": "markdown",
   "id": "inside-vitamin",
   "metadata": {},
   "source": [
    "Now assume our c value (threshold) is 5 sigma which corresponds to a p value is of order $10^{-7},10^{-8}$. "
   ]
  },
  {
   "cell_type": "code",
   "execution_count": 34,
   "id": "opening-planet",
   "metadata": {},
   "outputs": [],
   "source": [
    "delta_chisq = resultc.fun- resultb.fun # simpler - complex model\n",
    "P = st.chi2.cdf(delta_chisq,1) # the probability of chi2 > than delta_chisq would be 1-P"
   ]
  },
  {
   "cell_type": "code",
   "execution_count": 35,
   "id": "right-budget",
   "metadata": {
    "scrolled": true
   },
   "outputs": [
    {
     "data": {
      "text/plain": [
       "7.088924173740083"
      ]
     },
     "execution_count": 35,
     "metadata": {},
     "output_type": "execute_result"
    }
   ],
   "source": [
    "# norm.interval(P)\n",
    "# norm.isf(1-P)\n",
    "st.norm.ppf(P)"
   ]
  },
  {
   "cell_type": "code",
   "execution_count": 36,
   "id": "familiar-istanbul",
   "metadata": {},
   "outputs": [
    {
     "data": {
      "text/plain": [
       "6.757927550893328e-13"
      ]
     },
     "execution_count": 36,
     "metadata": {},
     "output_type": "execute_result"
    }
   ],
   "source": [
    "1-P"
   ]
  },
  {
   "cell_type": "markdown",
   "id": "accurate-intensity",
   "metadata": {},
   "source": [
    "- We see that $\\Lambda < c$ thus we can reject the simpler hypothesis with only two parameters instead of three as this corresponds to a 7 sigma event.\n",
    "\n",
    "- It is also seen in the p value (1-P) being much much smaller than the p value that correspond to a 5 sigma event (or order 10^(-7)\n",
    "\n",
    "- ### Thus we have a $7\\sigma$ significant and thus we cannot say there is no dark energy density in the universe, and thus the addition of $\\Omega_\\Lambda$ is justified."
   ]
  },
  {
   "cell_type": "markdown",
   "id": "elementary-psychiatry",
   "metadata": {},
   "source": [
    "***\n",
    "Thank you !"
   ]
  }
 ],
 "metadata": {
  "kernelspec": {
   "display_name": "Python 3",
   "language": "python",
   "name": "python3"
  },
  "language_info": {
   "codemirror_mode": {
    "name": "ipython",
    "version": 3
   },
   "file_extension": ".py",
   "mimetype": "text/x-python",
   "name": "python",
   "nbconvert_exporter": "python",
   "pygments_lexer": "ipython3",
   "version": "3.7.6"
  }
 },
 "nbformat": 4,
 "nbformat_minor": 5
}
